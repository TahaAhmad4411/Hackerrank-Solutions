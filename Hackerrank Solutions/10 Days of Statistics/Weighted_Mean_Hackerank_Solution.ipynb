{
 "cells": [
  {
   "cell_type": "code",
   "execution_count": null,
   "metadata": {},
   "outputs": [],
   "source": [
    "# Enter your code here. Read input from STDIN. Print output to STDOUT\n",
    "inp = input()\n",
    "arr=list(map(int,input().split()))\n",
    "arr1=list(map(int,input().split()))\n",
    "l=sum(list(map(lambda x,y:x*y,arr,arr1)))/sum(arr1)\n",
    "print('%.1f'%l)\n"
   ]
  }
 ],
 "metadata": {
  "kernelspec": {
   "display_name": "Python 3",
   "language": "python",
   "name": "python3"
  },
  "language_info": {
   "codemirror_mode": {
    "name": "ipython",
    "version": 3
   },
   "file_extension": ".py",
   "mimetype": "text/x-python",
   "name": "python",
   "nbconvert_exporter": "python",
   "pygments_lexer": "ipython3",
   "version": "3.7.3"
  }
 },
 "nbformat": 4,
 "nbformat_minor": 2
}
