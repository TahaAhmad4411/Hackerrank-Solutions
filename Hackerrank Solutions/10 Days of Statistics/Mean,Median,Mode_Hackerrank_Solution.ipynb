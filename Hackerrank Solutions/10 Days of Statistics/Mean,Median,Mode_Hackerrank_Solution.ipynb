{
 "cells": [
  {
   "cell_type": "code",
   "execution_count": null,
   "metadata": {},
   "outputs": [],
   "source": [
    "# Enter your code here. Read input from STDIN. Print output to STDOUT\n",
    "from collections import Counter \n",
    "if __name__ == '__main__':\n",
    "    \n",
    "    inp=input()\n",
    "    #Mean\n",
    "    arr = list(map(int, input().split()))\n",
    "    mean = sum((arr))/len(arr)\n",
    "     \n",
    "    #Median\n",
    "    n = len(arr) \n",
    "    arr.sort() \n",
    "    if n % 2 == 0: \n",
    "        median1 = arr[n//2] \n",
    "        median2 = arr[n//2 - 1] \n",
    "        median = (median1 + median2)/2\n",
    "    else: \n",
    "        median = arr[n//2] \n",
    "     #Mode\n",
    "    data = Counter(arr) \n",
    "    get_mode = dict(data) \n",
    "    mode = [k for k, v in get_mode.items() if v == max(list(data.values()))] \n",
    "    print(mean)\n",
    "    print(median)\n",
    "    mode = ' '.join(map(str, mode))\n",
    "    print(mode[0:4])\n",
    "    \n",
    "\n",
    "\n"
   ]
  }
 ],
 "metadata": {
  "kernelspec": {
   "display_name": "Python 3",
   "language": "python",
   "name": "python3"
  },
  "language_info": {
   "codemirror_mode": {
    "name": "ipython",
    "version": 3
   },
   "file_extension": ".py",
   "mimetype": "text/x-python",
   "name": "python",
   "nbconvert_exporter": "python",
   "pygments_lexer": "ipython3",
   "version": "3.7.3"
  }
 },
 "nbformat": 4,
 "nbformat_minor": 2
}
